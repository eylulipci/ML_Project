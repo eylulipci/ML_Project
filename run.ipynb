{
  "cells": [
    {
      "cell_type": "markdown",
      "metadata": {
        "id": "biuER5L5P_bp"
      },
      "source": [
        "# MEDIAR Training and Prediction Tutorial\n",
        "\n",
        "This tutorial guides how to conduct prediction using pretrained models from both MEDIARs final challenge weights as well as weights that were trained on data from the LPBS laboratory."
      ]
    },
    {
      "cell_type": "markdown",
      "metadata": {
        "id": "00LjatqCPZf6"
      },
      "source": [
        "\n",
        "\n",
        "---\n",
        "\n",
        "\n",
        "## 1. Setup\n",
        "\n",
        "Clone Github repository and install dependencies."
      ]
    },
    {
      "cell_type": "code",
      "execution_count": null,
      "metadata": {
        "colab": {
          "base_uri": "https://localhost:8080/"
        },
        "id": "0wC7RDZmIDTR",
        "outputId": "8c68a1ad-116d-4ce9-ea0a-560f9a99a523"
      },
      "outputs": [
        {
          "output_type": "stream",
          "name": "stdout",
          "text": [
            "Cloning into 'MEDIAR'...\n",
            "remote: Enumerating objects: 509, done.\u001b[K\n",
            "remote: Counting objects: 100% (49/49), done.\u001b[K\n",
            "remote: Compressing objects: 100% (32/32), done.\u001b[K\n",
            "remote: Total 509 (delta 29), reused 35 (delta 17), pack-reused 460\u001b[K\n",
            "Receiving objects: 100% (509/509), 15.30 MiB | 10.95 MiB/s, done.\n",
            "Resolving deltas: 100% (268/268), done.\n",
            "/content/MEDIAR\n",
            "Collecting fastremap==1.13.3 (from -r requirements.txt (line 1))\n",
            "  Downloading fastremap-1.13.3-cp310-cp310-manylinux_2_17_x86_64.manylinux2014_x86_64.whl (4.7 MB)\n",
            "\u001b[2K     \u001b[90m━━━━━━━━━━━━━━━━━━━━━━━━━━━━━━━━━━━━━━━━\u001b[0m \u001b[32m4.7/4.7 MB\u001b[0m \u001b[31m20.0 MB/s\u001b[0m eta \u001b[36m0:00:00\u001b[0m\n",
            "\u001b[?25hCollecting inplace_abn==1.1.0 (from -r requirements.txt (line 2))\n",
            "  Downloading inplace-abn-1.1.0.tar.gz (137 kB)\n",
            "\u001b[2K     \u001b[90m━━━━━━━━━━━━━━━━━━━━━━━━━━━━━━━━━━━━━━━━\u001b[0m \u001b[32m137.3/137.3 kB\u001b[0m \u001b[31m19.2 MB/s\u001b[0m eta \u001b[36m0:00:00\u001b[0m\n",
            "\u001b[?25h  Preparing metadata (setup.py) ... \u001b[?25l\u001b[?25hdone\n",
            "Collecting monai==0.9.0 (from -r requirements.txt (line 3))\n",
            "  Downloading monai-0.9.0-202206131636-py3-none-any.whl (939 kB)\n",
            "\u001b[2K     \u001b[90m━━━━━━━━━━━━━━━━━━━━━━━━━━━━━━━━━━━━━━━━\u001b[0m \u001b[32m939.7/939.7 kB\u001b[0m \u001b[31m43.2 MB/s\u001b[0m eta \u001b[36m0:00:00\u001b[0m\n",
            "\u001b[?25hCollecting numba==0.56.2 (from -r requirements.txt (line 4))\n",
            "  Downloading numba-0.56.2-cp310-cp310-manylinux2014_x86_64.manylinux_2_17_x86_64.whl (3.5 MB)\n",
            "\u001b[2K     \u001b[90m━━━━━━━━━━━━━━━━━━━━━━━━━━━━━━━━━━━━━━━━\u001b[0m \u001b[32m3.5/3.5 MB\u001b[0m \u001b[31m59.0 MB/s\u001b[0m eta \u001b[36m0:00:00\u001b[0m\n",
            "\u001b[?25hCollecting numpy==1.22.4 (from -r requirements.txt (line 5))\n",
            "  Downloading numpy-1.22.4-cp310-cp310-manylinux_2_17_x86_64.manylinux2014_x86_64.whl (16.8 MB)\n",
            "\u001b[2K     \u001b[90m━━━━━━━━━━━━━━━━━━━━━━━━━━━━━━━━━━━━━━━━\u001b[0m \u001b[32m16.8/16.8 MB\u001b[0m \u001b[31m75.3 MB/s\u001b[0m eta \u001b[36m0:00:00\u001b[0m\n",
            "\u001b[?25hCollecting pretrainedmodels==0.7.4 (from -r requirements.txt (line 6))\n",
            "  Downloading pretrainedmodels-0.7.4.tar.gz (58 kB)\n",
            "\u001b[2K     \u001b[90m━━━━━━━━━━━━━━━━━━━━━━━━━━━━━━━━━━━━━━━━\u001b[0m \u001b[32m58.8/58.8 kB\u001b[0m \u001b[31m8.8 MB/s\u001b[0m eta \u001b[36m0:00:00\u001b[0m\n",
            "\u001b[?25h  Preparing metadata (setup.py) ... \u001b[?25l\u001b[?25hdone\n",
            "Collecting pytz==2022.2.1 (from -r requirements.txt (line 7))\n",
            "  Downloading pytz-2022.2.1-py2.py3-none-any.whl (500 kB)\n",
            "\u001b[2K     \u001b[90m━━━━━━━━━━━━━━━━━━━━━━━━━━━━━━━━━━━━━━━━\u001b[0m \u001b[32m500.6/500.6 kB\u001b[0m \u001b[31m45.3 MB/s\u001b[0m eta \u001b[36m0:00:00\u001b[0m\n",
            "\u001b[?25hCollecting scikit_image==0.19.2 (from -r requirements.txt (line 8))\n",
            "  Downloading scikit_image-0.19.2-cp310-cp310-manylinux_2_17_x86_64.manylinux2014_x86_64.whl (14.0 MB)\n",
            "\u001b[2K     \u001b[90m━━━━━━━━━━━━━━━━━━━━━━━━━━━━━━━━━━━━━━━━\u001b[0m \u001b[32m14.0/14.0 MB\u001b[0m \u001b[31m84.5 MB/s\u001b[0m eta \u001b[36m0:00:00\u001b[0m\n",
            "\u001b[?25hCollecting scipy==1.7.2 (from -r requirements.txt (line 9))\n",
            "  Downloading scipy-1.7.2-cp310-cp310-manylinux_2_17_x86_64.manylinux2014_x86_64.whl (39.9 MB)\n",
            "\u001b[2K     \u001b[90m━━━━━━━━━━━━━━━━━━━━━━━━━━━━━━━━━━━━━━━━\u001b[0m \u001b[32m39.9/39.9 MB\u001b[0m \u001b[31m40.3 MB/s\u001b[0m eta \u001b[36m0:00:00\u001b[0m\n",
            "\u001b[?25hCollecting tifffile==2021.11.2 (from -r requirements.txt (line 10))\n",
            "  Downloading tifffile-2021.11.2-py3-none-any.whl (178 kB)\n",
            "\u001b[2K     \u001b[90m━━━━━━━━━━━━━━━━━━━━━━━━━━━━━━━━━━━━━━━━\u001b[0m \u001b[32m178.9/178.9 kB\u001b[0m \u001b[31m24.2 MB/s\u001b[0m eta \u001b[36m0:00:00\u001b[0m\n",
            "\u001b[?25hCollecting timm==0.4.12 (from -r requirements.txt (line 11))\n",
            "  Downloading timm-0.4.12-py3-none-any.whl (376 kB)\n",
            "\u001b[2K     \u001b[90m━━━━━━━━━━━━━━━━━━━━━━━━━━━━━━━━━━━━━━━━\u001b[0m \u001b[32m377.0/377.0 kB\u001b[0m \u001b[31m41.7 MB/s\u001b[0m eta \u001b[36m0:00:00\u001b[0m\n",
            "\u001b[?25hCollecting torch==1.12.1 (from -r requirements.txt (line 12))\n",
            "  Downloading torch-1.12.1-cp310-cp310-manylinux1_x86_64.whl (776.3 MB)\n",
            "\u001b[2K     \u001b[90m━━━━━━━━━━━━━━━━━━━━━━━━━━━━━━━━━━━━━━━━\u001b[0m \u001b[32m776.3/776.3 MB\u001b[0m \u001b[31m2.1 MB/s\u001b[0m eta \u001b[36m0:00:00\u001b[0m\n",
            "\u001b[?25hCollecting torchvision==0.13.1 (from -r requirements.txt (line 13))\n",
            "  Downloading torchvision-0.13.1-cp310-cp310-manylinux1_x86_64.whl (19.1 MB)\n",
            "\u001b[2K     \u001b[90m━━━━━━━━━━━━━━━━━━━━━━━━━━━━━━━━━━━━━━━━\u001b[0m \u001b[32m19.1/19.1 MB\u001b[0m \u001b[31m61.6 MB/s\u001b[0m eta \u001b[36m0:00:00\u001b[0m\n",
            "\u001b[?25hCollecting tqdm==4.64.1 (from -r requirements.txt (line 14))\n",
            "  Downloading tqdm-4.64.1-py2.py3-none-any.whl (78 kB)\n",
            "\u001b[2K     \u001b[90m━━━━━━━━━━━━━━━━━━━━━━━━━━━━━━━━━━━━━━━━\u001b[0m \u001b[32m78.5/78.5 kB\u001b[0m \u001b[31m11.5 MB/s\u001b[0m eta \u001b[36m0:00:00\u001b[0m\n",
            "\u001b[?25hCollecting llvmlite<0.40,>=0.39.0dev0 (from numba==0.56.2->-r requirements.txt (line 4))\n",
            "  Downloading llvmlite-0.39.1-cp310-cp310-manylinux_2_17_x86_64.manylinux2014_x86_64.whl (34.6 MB)\n",
            "\u001b[2K     \u001b[90m━━━━━━━━━━━━━━━━━━━━━━━━━━━━━━━━━━━━━━━━\u001b[0m \u001b[32m34.6/34.6 MB\u001b[0m \u001b[31m45.6 MB/s\u001b[0m eta \u001b[36m0:00:00\u001b[0m\n",
            "\u001b[?25hCollecting setuptools<60 (from numba==0.56.2->-r requirements.txt (line 4))\n",
            "  Downloading setuptools-59.8.0-py3-none-any.whl (952 kB)\n",
            "\u001b[2K     \u001b[90m━━━━━━━━━━━━━━━━━━━━━━━━━━━━━━━━━━━━━━━━\u001b[0m \u001b[32m952.8/952.8 kB\u001b[0m \u001b[31m74.5 MB/s\u001b[0m eta \u001b[36m0:00:00\u001b[0m\n",
            "\u001b[?25hCollecting munch (from pretrainedmodels==0.7.4->-r requirements.txt (line 6))\n",
            "  Downloading munch-4.0.0-py2.py3-none-any.whl (9.9 kB)\n",
            "Requirement already satisfied: networkx>=2.2 in /usr/local/lib/python3.10/dist-packages (from scikit_image==0.19.2->-r requirements.txt (line 8)) (3.2.1)\n",
            "Requirement already satisfied: pillow!=7.1.0,!=7.1.1,!=8.3.0,>=6.1.0 in /usr/local/lib/python3.10/dist-packages (from scikit_image==0.19.2->-r requirements.txt (line 8)) (9.4.0)\n",
            "Requirement already satisfied: imageio>=2.4.1 in /usr/local/lib/python3.10/dist-packages (from scikit_image==0.19.2->-r requirements.txt (line 8)) (2.31.6)\n",
            "Requirement already satisfied: PyWavelets>=1.1.1 in /usr/local/lib/python3.10/dist-packages (from scikit_image==0.19.2->-r requirements.txt (line 8)) (1.5.0)\n",
            "Requirement already satisfied: packaging>=20.0 in /usr/local/lib/python3.10/dist-packages (from scikit_image==0.19.2->-r requirements.txt (line 8)) (23.2)\n",
            "Requirement already satisfied: typing-extensions in /usr/local/lib/python3.10/dist-packages (from torch==1.12.1->-r requirements.txt (line 12)) (4.5.0)\n",
            "Requirement already satisfied: requests in /usr/local/lib/python3.10/dist-packages (from torchvision==0.13.1->-r requirements.txt (line 13)) (2.31.0)\n",
            "Requirement already satisfied: charset-normalizer<4,>=2 in /usr/local/lib/python3.10/dist-packages (from requests->torchvision==0.13.1->-r requirements.txt (line 13)) (3.3.2)\n",
            "Requirement already satisfied: idna<4,>=2.5 in /usr/local/lib/python3.10/dist-packages (from requests->torchvision==0.13.1->-r requirements.txt (line 13)) (3.6)\n",
            "Requirement already satisfied: urllib3<3,>=1.21.1 in /usr/local/lib/python3.10/dist-packages (from requests->torchvision==0.13.1->-r requirements.txt (line 13)) (2.0.7)\n",
            "Requirement already satisfied: certifi>=2017.4.17 in /usr/local/lib/python3.10/dist-packages (from requests->torchvision==0.13.1->-r requirements.txt (line 13)) (2023.11.17)\n",
            "Building wheels for collected packages: inplace_abn, pretrainedmodels\n"
          ]
        }
      ],
      "source": [
        "# Clone MEDIAR github repo\n",
        "!git clone https://github.com/Lee-Gihun/MEDIAR.git\n",
        "%rm -rf ./sample_data\n",
        "%cd MEDIAR\n",
        "\n",
        "# # Install dependencies\n",
        "%pip install -r requirements.txt\n",
        "%pip install segmentation-models-pytorch==0.3.1\n",
        "%pip install wandb\n",
        "!wandb off"
      ]
    },
    {
      "cell_type": "markdown",
      "metadata": {
        "id": "PvKYRYitHRNR"
      },
      "source": [
        "\n",
        "\n",
        "---\n",
        "\n",
        "\n",
        "### 2. Downloading data and preprocessing\n"
      ]
    },
    {
      "cell_type": "code",
      "execution_count": null,
      "metadata": {
        "id": "doVGxk2VHApv"
      },
      "outputs": [],
      "source": [
        "# Download MEDIAR pretrained weights\n",
        "%mkdir weights\n",
        "%mkdir weights/pretrained\n",
        "\n",
        "!gdown --id 1NHDaYvsYz3G0OCqzegT-bkNcly2clPGR -O ./weights/pretrained/\n",
        "!gdown --id 1v5tYYJDqiwTn_mV0KyX5UEonlViSNx4i -O ./weights/pretrained/\n",
        "\n",
        "# Download MEDIAR finetuned weights\n",
        "%mkdir weights/finetuned\n",
        "\n",
        "!gdown --id 168MtudjTMLoq9YGTyoD2Rjl_d3Gy6c_L -O ./weights/finetuned/from_phase1.pth\n",
        "!gdown --id 1JJ2-QKTCk-G7sp5ddkqcifMxgnyOrXjx -O ./weights/finetuned/from_phase2.pth"
      ]
    },
    {
      "cell_type": "code",
      "execution_count": null,
      "metadata": {
        "id": "R2iwnqsUQvLn"
      },
      "outputs": [],
      "source": [
        "# All imports we will need\n",
        "import torch\n",
        "import glob\n",
        "import skimage.io as io\n",
        "import matplotlib.pyplot as plt\n",
        "import numpy as np\n",
        "\n",
        "from train_tools import *\n",
        "from train_tools.models import MEDIARFormer\n",
        "from core.MEDIAR import Predictor, EnsemblePredictor\n",
        "\n",
        "import os\n",
        "import imageio\n",
        "\n",
        "import shutil\n",
        "import cv2\n",
        "\n",
        "import tifffile as tif"
      ]
    },
    {
      "cell_type": "markdown",
      "metadata": {
        "id": "YGxb12UM1NI4"
      },
      "source": [
        "Download lab dataset:\n"
      ]
    },
    {
      "cell_type": "code",
      "execution_count": null,
      "metadata": {
        "id": "aOwBcF130618"
      },
      "outputs": [],
      "source": [
        "google_drive_link = 'https://drive.google.com/file/d/1Drd7fEaxcL2TPMmqO2D2qJ5yN_KTLsdP/view?usp=drive_link'\n",
        "\n",
        "!gdown --id 1Drd7fEaxcL2TPMmqO2D2qJ5yN_KTLsdP\n",
        "!unzip \"lab dataset.zip\""
      ]
    },
    {
      "cell_type": "code",
      "execution_count": null,
      "metadata": {
        "id": "GAB6i9s3SQ4A"
      },
      "outputs": [],
      "source": [
        "#Remove the download and unzipped file so we save space\n",
        "!rm \"lab dataset.zip\""
      ]
    },
    {
      "cell_type": "markdown",
      "metadata": {
        "id": "1HTjgfcw1lSC"
      },
      "source": [
        "Some preprocessing so that we can use the model with lab data:\n",
        "In particular, the labs data has the grayscale channel in the first position (for example the shape of an image of dimensions 512x512 is 1x512x512) and we need it in the last position (512x512x1).\n",
        "\n",
        "We also then stack the grayscale channel 3 times to create an RGB image, as MEDIAR requires this.\n",
        "\n",
        "NOTE: this preprocessing is ONLY needed for training and inference. When evaluating our predictions against the ground truth, this preprocessing is not needed."
      ]
    },
    {
      "cell_type": "code",
      "execution_count": null,
      "metadata": {
        "id": "9HuqLhrXTQbg"
      },
      "outputs": [],
      "source": [
        "\n",
        "def process_and_save_image(input_path, output_path):\n",
        "    # Read the image using imageio\n",
        "    img = imageio.imread(input_path)\n",
        "\n",
        "    if len(img.shape) != 3:\n",
        "      img = img[np.newaxis, :,:]\n",
        "\n",
        "    #Transpose the dimensions\n",
        "    img_transformed = np.transpose(img, (1, 2, 0))\n",
        "    rgb = np.stack([img_transformed]*3, axis=2)\n",
        "    rgb = rgb[:,:,:,0]\n",
        "\n",
        "    # Save the processed image to the output path\n",
        "    imageio.imsave(output_path, rgb)\n",
        "\n",
        "def process_images_in_directory(input_dir, output_dir):\n",
        "    # Walk through the directory structure recursively\n",
        "    for root, dirs, files in os.walk(input_dir):\n",
        "        for filename in files:\n",
        "            # Check if the file has a valid image extension\n",
        "            if filename.lower().endswith(('.png', '.jpg', '.jpeg', '.tif', '.tiff')):\n",
        "\n",
        "                # Construct the full path to the input image\n",
        "                input_image_path = os.path.join(root, filename)\n",
        "\n",
        "                # Construct the corresponding output path\n",
        "                output_image_path = os.path.join(output_dir, os.path.relpath(input_image_path, input_dir))\n",
        "\n",
        "                # Ensure the output directory structure exists\n",
        "                os.makedirs(os.path.dirname(output_image_path), exist_ok=True)\n",
        "                try:\n",
        "                  # Process and save the image\n",
        "                  process_and_save_image(input_image_path, output_image_path)\n",
        "                except:\n",
        "                  img = imageio.imread(input_image_path)\n",
        "                  print(img.shape)"
      ]
    },
    {
      "cell_type": "code",
      "source": [
        "#Transform the labs data, this will be used ONLY for training the model and inference\n",
        "input_directory = '/content/MEDIAR/YeaZ_universal_images_and_masks'\n",
        "output_directory = '/content/MEDIAR/lab_data_transformed'\n",
        "\n",
        "process_images_in_directory(input_directory, output_directory)"
      ],
      "metadata": {
        "id": "L8COqnZ2Cl34"
      },
      "execution_count": null,
      "outputs": []
    },
    {
      "cell_type": "markdown",
      "source": [
        "We now separate images in all subfolders of the labs dataset into only 2 subfolders: images and labels."
      ],
      "metadata": {
        "id": "819DGppgZSWB"
      }
    },
    {
      "cell_type": "code",
      "execution_count": null,
      "metadata": {
        "id": "eZ_bL526a08N"
      },
      "outputs": [],
      "source": [
        "def separate_images_in_directory(input_dir, output_dir_images, output_dir_labels):\n",
        "    os.makedirs('/content/MEDIAR/lab_data_separated', exist_ok = True)\n",
        "    os.makedirs(output_dir_images, exist_ok = True)\n",
        "    os.makedirs(output_dir_labels, exist_ok = True)\n",
        "    # Walk through the directory structure recursively\n",
        "    for root, dirs, files in os.walk(input_dir):\n",
        "        for filename in files:\n",
        "            # Check if the file has a valid image extension\n",
        "            if filename.lower().endswith(('.png', '.jpg', '.jpeg', '.tif', '.tiff')):\n",
        "                # Construct the full path to the input image\n",
        "                input_image_path = os.path.join(root, filename)\n",
        "\n",
        "                # Determine the output directory based on the image filename\n",
        "                if 'mask' in filename.lower():\n",
        "                    output_dir = output_dir_labels\n",
        "                else:\n",
        "                    output_dir = output_dir_images\n",
        "\n",
        "\n",
        "                # Construct the corresponding output path\n",
        "                output_image_path = os.path.join(output_dir, filename)\n",
        "\n",
        "\n",
        "                shutil.copy2(input_image_path, output_image_path)\n",
        "\n"
      ]
    },
    {
      "cell_type": "code",
      "source": [
        "#Separate the transformed lab data into just two folders: images and labels\n",
        "input_directory = '/content/MEDIAR/lab_data_transformed'\n",
        "output_directory_images = '/content/MEDIAR/lab_data_separated/images'\n",
        "output_directory_labels = '/content/MEDIAR/lab_data_separated/labels'\n",
        "\n",
        "separate_images_in_directory(input_directory, output_directory_images, output_directory_labels)"
      ],
      "metadata": {
        "id": "qEVjTdmBDOyD"
      },
      "execution_count": null,
      "outputs": []
    },
    {
      "cell_type": "markdown",
      "source": [
        "Now we download a small test set which will be used to evaluate our model."
      ],
      "metadata": {
        "id": "c6EIhn-aZhj7"
      }
    },
    {
      "cell_type": "code",
      "execution_count": null,
      "metadata": {
        "id": "kiFowU_CuSeq"
      },
      "outputs": [],
      "source": [
        "#Download lab test set\n",
        "google_drive_link = 'https://drive.google.com/file/d/1hAUfb5RXWfYzDcCg481PY7Wv10m7ZYdx/view?usp=drive_link'\n",
        "\n",
        "!gdown --id 1hAUfb5RXWfYzDcCg481PY7Wv10m7ZYdx\n",
        "!unzip \"test_images.zip\""
      ]
    },
    {
      "cell_type": "markdown",
      "source": [
        "Separate the test data into labels and images, as well as renaming files to be able to used by MEDIAR"
      ],
      "metadata": {
        "id": "BORCQfA9aFpu"
      }
    },
    {
      "cell_type": "code",
      "source": [
        "def separate_images_in_directory_test(input_dir, output_dir_images, output_dir_labels):\n",
        "    os.makedirs('/content/MEDIAR/lab_test_separated', exist_ok = True)\n",
        "    os.makedirs(output_dir_images, exist_ok = True)\n",
        "    os.makedirs(output_dir_labels, exist_ok = True)\n",
        "    # Walk through the directory structure recursively\n",
        "    for root, dirs, files in os.walk(input_dir):\n",
        "        for filename in files:\n",
        "            # Check if the file has a valid image extension (you can modify this condition)\n",
        "            if filename.lower().endswith(('.png', '.jpg', '.jpeg', '.tif', '.tiff')):\n",
        "                # Construct the full path to the input image\n",
        "                input_image_path = os.path.join(root, filename)\n",
        "\n",
        "                # Determine the output directory based on the image filename\n",
        "                if 'mask' in filename.lower():\n",
        "                    output_dir = output_dir_labels\n",
        "                else:\n",
        "                    output_dir = output_dir_images\n",
        "\n",
        "                #Even though tif and tiff are the same format, the tifffile library has trouble recognizing .tif as .tiff\n",
        "                if filename.endswith('_im.tif'):\n",
        "                    # Construct the new filename\n",
        "                    filename = filename.replace('_im.tif', '_image.tiff')\n",
        "\n",
        "\n",
        "                # Construct the corresponding output path\n",
        "                output_image_path = os.path.join(output_dir, filename)\n",
        "\n",
        "                shutil.copy2(input_image_path, output_image_path)"
      ],
      "metadata": {
        "id": "u9AC1hEtCr84"
      },
      "execution_count": null,
      "outputs": []
    },
    {
      "cell_type": "code",
      "source": [
        "#Transform the lab test dataset and separate. This is only used as input to our predictor\n",
        "input_directory = '/content/MEDIAR/Test_images_for_ML_class_2023'\n",
        "output_directory = '/content/MEDIAR/lab_test_transformed'\n",
        "\n",
        "process_images_in_directory(input_directory, output_directory)\n",
        "\n",
        "input_directory = '/content/MEDIAR/lab_test_transformed'\n",
        "output_directory_images = '/content/MEDIAR/lab_test_separated/images'\n",
        "output_directory_labels = '/content/MEDIAR/lab_test_separated/labels'\n",
        "\n",
        "separate_images_in_directory_test(input_directory, output_directory_images, output_directory_labels)"
      ],
      "metadata": {
        "id": "tzkZgxoNETXi"
      },
      "execution_count": null,
      "outputs": []
    },
    {
      "cell_type": "markdown",
      "source": [
        "Preparing all data needed for inference and evaluation"
      ],
      "metadata": {
        "id": "YejLQuOzbluw"
      }
    },
    {
      "cell_type": "code",
      "execution_count": null,
      "metadata": {
        "id": "wQjYdP2vYh3_"
      },
      "outputs": [],
      "source": [
        "!mkdir lab_ground_truth\n",
        "!mkdir temp"
      ]
    },
    {
      "cell_type": "code",
      "execution_count": null,
      "metadata": {
        "id": "lN1wU0cKX5-y"
      },
      "outputs": [],
      "source": [
        "#Create lab data ground truth folder, this is only used when evaluating our predictions (not in the predictor itself), because the evaluation needs lab data without any transformations\n",
        "# that we did in all other cases\n",
        "input_directory = '/content/MEDIAR/Test_images_for_ML_class_2023'\n",
        "output_directory_images = '/content/MEDIAR/temp'\n",
        "output_directory_labels = '/content/MEDIAR/lab_ground_truth'\n",
        "\n",
        "separate_images_in_directory(input_directory, output_directory_images, output_directory_labels)"
      ]
    },
    {
      "cell_type": "code",
      "execution_count": null,
      "metadata": {
        "id": "o8WgN_M934Tv"
      },
      "outputs": [],
      "source": [
        "# Directory path\n",
        "directory_path = '/content/MEDIAR/lab_ground_truth'\n",
        "\n",
        "#Rename ground truth labels so our evaluator can match the files correctly. NOTE: tif is the same as tiff, just renamed due to errors\n",
        "# Iterate through files in the directory\n",
        "for filename in os.listdir(directory_path):\n",
        "    if filename.endswith('_mask.tif'):\n",
        "        # Construct the new filename\n",
        "        new_filename = os.path.join(directory_path, filename.replace('_mask.tif', '_image_label.tiff'))\n",
        "\n",
        "        # Rename the file\n",
        "        os.rename(os.path.join(directory_path, filename), new_filename)\n",
        "\n"
      ]
    },
    {
      "cell_type": "markdown",
      "source": [
        "Download and replace all files that will be used for training, inference and evaluation."
      ],
      "metadata": {
        "id": "Kq1eC0GCcH4l"
      }
    },
    {
      "cell_type": "code",
      "source": [
        "#Download files we need to replace\n",
        "\n",
        "# #evaluate.py\n",
        "os.remove('/content/MEDIAR/evaluate.py')\n",
        "!gdown --id 1cslf6tQp-YBcwnyGwuFrTbs5QLUio07x\n",
        "shutil.move('evaluate.py', '/content/MEDIAR/evaluate.py')\n",
        "\n",
        "# #generate_mapping.py\n",
        "os.remove('/content/MEDIAR/generate_mapping.py')\n",
        "!gdown --id 1ozp6XgLMluUG4QM7aFoQqeDL1r2wVDSA\n",
        "\n",
        "\n",
        "# #finetuning1.json\n",
        "os.remove('/content/MEDIAR/config/step2_finetuning/finetuning1.json')\n",
        "!gdown --id 1RRRWxB2lLrt7tXzZE6_xSLwBECM5dsT4\n",
        "shutil.move('finetuning1.json', '/content/MEDIAR/config/step2_finetuning/finetuning1.json')\n",
        "\n",
        "# #measures.py\n",
        "os.remove('/content/MEDIAR/train_tools/measures.py')\n",
        "!gdown --id 15_X-a1D-YS0Rx4iUUBALgSwZx7kUg_xp\n",
        "shutil.move('measures.py', '/content/MEDIAR/train_tools/measures.py')\n"
      ],
      "metadata": {
        "id": "WCiQGcOoHLBA"
      },
      "execution_count": null,
      "outputs": []
    },
    {
      "cell_type": "code",
      "execution_count": null,
      "metadata": {
        "id": "5PhHDnLygM8F"
      },
      "outputs": [],
      "source": [
        "! python ./generate_mapping.py --root=\"/content/MEDIAR\""
      ]
    },
    {
      "cell_type": "markdown",
      "source": [
        "Make the mapping_tuning mapping empty as we are not using a tuning set"
      ],
      "metadata": {
        "id": "aWcoV5IqFYmx"
      }
    },
    {
      "cell_type": "code",
      "source": [
        "%%writefile /content/MEDIAR/train_tools/data_utils/mapping_tuning.json\n",
        "{}"
      ],
      "metadata": {
        "id": "39CCV1NJpac_"
      },
      "execution_count": null,
      "outputs": []
    },
    {
      "cell_type": "markdown",
      "source": [
        "To run the training, uncomment this line. By default, this will use MEDIARS pretrained phase1 weights and train on the entire LPBS dataset for 50 epochs."
      ],
      "metadata": {
        "id": "m15CFngRGw41"
      }
    },
    {
      "cell_type": "code",
      "execution_count": null,
      "metadata": {
        "id": "EFJ9ZmqRt2Tp"
      },
      "outputs": [],
      "source": [
        "#! python ./main.py --config_path=\"/content/MEDIAR/config/step2_finetuning/finetuning1.json\""
      ]
    },
    {
      "cell_type": "markdown",
      "source": [
        "To save our trained weights, we can upload them to our google drive or download them locally"
      ],
      "metadata": {
        "id": "FuJEYHMogfO3"
      }
    },
    {
      "cell_type": "code",
      "source": [
        "##Uncomment to download to drive\n",
        "# from google.colab import drive\n",
        "# drive.mount('/content/drive')"
      ],
      "metadata": {
        "id": "6rRT3VzPXq2R"
      },
      "execution_count": null,
      "outputs": []
    },
    {
      "cell_type": "code",
      "source": [
        "##Run if we want to copy the trained model to MyDrive\n",
        "# model_name = \"--YOUR_MODEL_NAME--\"\n",
        "# path = f\"/content/drive/MyDrive/{model_name}\"\n",
        "# shutil.copy(\"/content/MEDIAR/wandb/latest-run/files/model.pth\", path)"
      ],
      "metadata": {
        "id": "v9jRWVaDMwPf"
      },
      "execution_count": null,
      "outputs": []
    },
    {
      "cell_type": "code",
      "source": [
        "##Uncomment if we want to download files locally\n",
        "#from google.colab import files\n",
        "#files.download('/content/MEDIAR/wandb/latest-run/files/model.pth')"
      ],
      "metadata": {
        "id": "TuWj43iuJPg5"
      },
      "execution_count": null,
      "outputs": []
    },
    {
      "cell_type": "markdown",
      "source": [
        "Now we can perform inference on the test set, using our pre-trained models which are uploaded on a Google Drive"
      ],
      "metadata": {
        "id": "CEngnTpgf-wk"
      }
    },
    {
      "cell_type": "code",
      "execution_count": null,
      "metadata": {
        "id": "-R_SdeRL1PUT",
        "colab": {
          "base_uri": "https://localhost:8080/"
        },
        "outputId": "efa66941-7501-4f47-decd-ed879c4dad94"
      },
      "outputs": [
        {
          "output_type": "stream",
          "name": "stdout",
          "text": [
            "/usr/local/lib/python3.10/dist-packages/gdown/cli.py:121: FutureWarning: Option `--id` was deprecated in version 4.3.1 and will be removed in 5.0. You don't need to pass it anymore to use a file ID.\n",
            "  warnings.warn(\n",
            "Downloading...\n",
            "From: https://drive.google.com/uc?id=1gChQsgl7ADADUyVz2pVVAV1kIuwjlOV_\n",
            "To: /content/MEDIAR/model_pretrained_phase1_50_epochs.pth\n",
            "100% 486M/486M [00:03<00:00, 143MB/s]\n",
            "/usr/local/lib/python3.10/dist-packages/gdown/cli.py:121: FutureWarning: Option `--id` was deprecated in version 4.3.1 and will be removed in 5.0. You don't need to pass it anymore to use a file ID.\n",
            "  warnings.warn(\n",
            "Downloading...\n",
            "From: https://drive.google.com/uc?id=1vZz5y98XiYa4dKbCuOVMxm1JTJP3oco1\n",
            "To: /content/MEDIAR/model_finetuned_phase1_20epochs.pth\n",
            "100% 486M/486M [00:04<00:00, 105MB/s] \n"
          ]
        }
      ],
      "source": [
        "#Download our trained weights\n",
        "!gdown --id 1gChQsgl7ADADUyVz2pVVAV1kIuwjlOV_\n",
        "!gdown --id 1vZz5y98XiYa4dKbCuOVMxm1JTJP3oco1"
      ]
    },
    {
      "cell_type": "code",
      "execution_count": null,
      "metadata": {
        "id": "mMyZeIFJ1kAA"
      },
      "outputs": [],
      "source": [
        "!mkdir results"
      ]
    },
    {
      "cell_type": "code",
      "source": [
        "def conduct_prediction(model_path, input_path, gt_path):\n",
        "  model_name = (model_path.split('/')[-1]).split('.')[0]\n",
        "  output_path = f\"results/{model_name}\"\n",
        "  !mkdir {output_path}\n",
        "\n",
        "  weights = torch.load(model_path, map_location=\"cpu\")\n",
        "  model_args = {\n",
        "    \"classes\": 3,\n",
        "    \"decoder_channels\": [1024, 512, 256, 128, 64],\n",
        "    \"decoder_pab_channels\": 256,\n",
        "    \"encoder_name\": 'mit_b5',\n",
        "    \"in_channels\": 3\n",
        "  }\n",
        "  model = MEDIARFormer(**model_args)\n",
        "  model.load_state_dict(weights, strict=False)\n",
        "\n",
        "  predictor = Predictor(model, \"cuda:0\", input_path, output_path, algo_params={\"use_tta\": False})\n",
        "  _ = predictor.conduct_prediction()\n",
        "\n",
        "  print(\"Evaluation of model: \", model_name)\n",
        "  !python ./evaluate.py --pred_path={output_path} --gt_path={gt_path}\n",
        "\n",
        "def conduct_ensemble_prediction(model_path1, model_path2, input_path, output_path):\n",
        "  model_name1 = (model_path1.split('/')[-1]).split('.')[0]\n",
        "\n",
        "  model_name2 = (model_path2.split('/')[-1]).split('.')[0]\n",
        "\n",
        "  output_path = f\"results/ensemble_{model_name1}_and_{model_name2}\"\n",
        "  !mkdir {output_path}\n",
        "\n",
        "\n",
        "  weights1 = torch.load(model_path1, map_location=\"cpu\")\n",
        "  weights2 = torch.load(model_path2, map_location=\"cpu\")\n",
        "  model_args = {\n",
        "    \"classes\": 3,\n",
        "    \"decoder_channels\": [1024, 512, 256, 128, 64],\n",
        "    \"decoder_pab_channels\": 256,\n",
        "    \"encoder_name\": 'mit_b5',\n",
        "    \"in_channels\": 3\n",
        "  }\n",
        "  model1 = MEDIARFormer(**model_args)\n",
        "  model1.load_state_dict(weights1, strict=False)\n",
        "  model2 = MEDIARFormer(**model_args)\n",
        "  model2.load_state_dict(weights2, strict=False)\n",
        "\n",
        "  predictor3 = EnsemblePredictor(model1, model2, \"cuda:0\", input_path, output_path, algo_params={\"use_tta\": True})\n",
        "  _ = predictor3.conduct_prediction()\n",
        "\n",
        "  print(\"Evaluation of ensemble model: \", model_name1, \" and \", model_name2)\n",
        "  !python ./evaluate.py --pred_path={output_path} --gt_path={gt_path}"
      ],
      "metadata": {
        "id": "nDS3IRpzgSq9"
      },
      "execution_count": null,
      "outputs": []
    },
    {
      "cell_type": "code",
      "execution_count": null,
      "metadata": {
        "id": "E5u0CG0N1iBB"
      },
      "outputs": [],
      "source": [
        "model_path1 = \"/content/MEDIAR/model_pretrained_phase1_50_epochs.pth\"\n",
        "model_path2 = \"/content/MEDIAR/model_finetuned_phase1_20epochs.pth\"\n",
        "#To use the weights from current training, we can define a new path and pass it to the conduct_prediction function as the model_path argument,\n",
        "#new_model_path = /content/MEDIAR/wandb/latest-run/files/model.pth\n",
        "\n",
        "finetuned_phase1_model = \"/content/MEDIAR/weights/finetuned/from_phase1.pth\"\n",
        "finetuned_phase2_model = \"/content/MEDIAR/weights/finetuned/from_phase2.pth\"\n",
        "\n",
        "input_path = \"/content/MEDIAR/lab_test_separated/images\"\n",
        "gt_path= \"/content/MEDIAR/lab_ground_truth\""
      ]
    },
    {
      "cell_type": "code",
      "source": [
        "#If we want to redo the inference, we can delete the results and re-do the inference\n",
        "# shutil.rmtree('/content/MEDIAR/results')\n",
        "# !mkdir results"
      ],
      "metadata": {
        "id": "gk48iFtemJsu"
      },
      "execution_count": null,
      "outputs": []
    },
    {
      "cell_type": "code",
      "source": [
        "path = \"/content/MEDIAR/results/ensemble_model_pretrained_phase1_50_epochs_and_from_phase1/IBC180_004_image_label.tiff\"\n",
        "pred1 = io.imread(path)\n",
        "io.imshow(pred1, cmap=\"cividis\")"
      ],
      "metadata": {
        "id": "MKFH3ZwvpXr_"
      },
      "execution_count": null,
      "outputs": []
    },
    {
      "cell_type": "code",
      "source": [
        "conduct_prediction(model_path1, input_path, gt_path)\n",
        "conduct_prediction(model_path2, input_path, gt_path)\n",
        "conduct_ensemble_prediction(model_path1, model_path2, input_path, gt_path)\n",
        "\n",
        "conduct_prediction(finetuned_phase1_model, input_path, gt_path)\n",
        "conduct_prediction(finetuned_phase2_model, input_path, gt_path)\n",
        "print(\"Ensemble predictions using MEDIARs finetuned weights as well:\")\n",
        "\n",
        "conduct_ensemble_prediction(model_path1, finetuned_phase1_model, input_path, gt_path)\n",
        "conduct_ensemble_prediction(model_path1, finetuned_phase2_model, input_path, gt_path)\n",
        "conduct_ensemble_prediction(finetuned_phase1_model, finetuned_phase2_model, input_path, gt_path)"
      ],
      "metadata": {
        "colab": {
          "base_uri": "https://localhost:8080/"
        },
        "id": "m_fFo9OZgsvq",
        "outputId": "78667d1e-5462-4f8f-c58b-726b2b968dfd"
      },
      "execution_count": null,
      "outputs": [
        {
          "output_type": "stream",
          "name": "stdout",
          "text": [
            "Prediction finished: IBC180_004_image.tif; img size = torch.Size([1, 3, 512, 512]); costing: 0.56s\n",
            "Prediction finished: OD301_01_image.tif; img size = torch.Size([1, 3, 512, 512]); costing: 0.36s\n",
            "Prediction finished: YSM3919_pak2Dcdc42mChSW_24h_04_R3D_image.tif; img size = torch.Size([1, 3, 1024, 1024]); costing: 2.68s\n",
            "Prediction finished: pSP_99_crop_1_image.tiff; img size = torch.Size([1, 3, 921, 1580]); costing: 4.11s\n",
            "Prediction finished: pSP_99_crop_2_image.tiff; img size = torch.Size([1, 3, 580, 1080]); costing: 1.28s\n",
            "\n",
            " Total Time Cost: 8.99s\n",
            "Evaluation of model:  model_pretrained_phase1_50_epochs\n",
            "100% 5/5 [00:01<00:00,  3.29it/s]\n",
            "mean F1 Score: 0.96846\n",
            "mean AP Score: 0.9394200000000001\n",
            "Prediction finished: IBC180_004_image.tif; img size = torch.Size([1, 3, 512, 512]); costing: 0.53s\n",
            "Prediction finished: OD301_01_image.tif; img size = torch.Size([1, 3, 512, 512]); costing: 0.38s\n",
            "Prediction finished: YSM3919_pak2Dcdc42mChSW_24h_04_R3D_image.tif; img size = torch.Size([1, 3, 1024, 1024]); costing: 2.74s\n",
            "Prediction finished: pSP_99_crop_1_image.tiff; img size = torch.Size([1, 3, 921, 1580]); costing: 4.19s\n",
            "Prediction finished: pSP_99_crop_2_image.tiff; img size = torch.Size([1, 3, 580, 1080]); costing: 1.30s\n",
            "\n",
            " Total Time Cost: 9.15s\n",
            "Evaluation of model:  model_finetuned_phase1_20epochs\n",
            "100% 5/5 [00:01<00:00,  3.26it/s]\n",
            "mean F1 Score: 0.95428\n",
            "mean AP Score: 0.91446\n",
            "Prediction finished: IBC180_004_image.tif; img size = torch.Size([1, 3, 512, 512]); costing: 0.85s\n",
            "Prediction finished: OD301_01_image.tif; img size = torch.Size([1, 3, 512, 512]); costing: 0.54s\n",
            "Prediction finished: YSM3919_pak2Dcdc42mChSW_24h_04_R3D_image.tif; img size = torch.Size([1, 3, 1024, 1024]); costing: 5.00s\n",
            "Prediction finished: pSP_99_crop_1_image.tiff; img size = torch.Size([1, 3, 921, 1580]); costing: 8.29s\n",
            "Prediction finished: pSP_99_crop_2_image.tiff; img size = torch.Size([1, 3, 580, 1080]); costing: 2.51s\n",
            "\n",
            " Total Time Cost: 17.18s\n",
            "Evaluation of ensemble model:  model_pretrained_phase1_50_epochs  and  model_finetuned_phase1_20epochs\n",
            "100% 5/5 [00:01<00:00,  3.34it/s]\n",
            "mean F1 Score: 0.96876\n",
            "mean AP Score: 0.9404399999999999\n",
            "Prediction finished: IBC180_004_image.tif; img size = torch.Size([1, 3, 512, 512]); costing: 0.51s\n",
            "Prediction finished: OD301_01_image.tif; img size = torch.Size([1, 3, 512, 512]); costing: 0.37s\n",
            "Prediction finished: YSM3919_pak2Dcdc42mChSW_24h_04_R3D_image.tif; img size = torch.Size([1, 3, 1024, 1024]); costing: 2.79s\n",
            "Prediction finished: pSP_99_crop_1_image.tiff; img size = torch.Size([1, 3, 921, 1580]); costing: 4.34s\n",
            "Prediction finished: pSP_99_crop_2_image.tiff; img size = torch.Size([1, 3, 580, 1080]); costing: 1.34s\n",
            "\n",
            " Total Time Cost: 9.34s\n",
            "Evaluation of model:  from_phase1\n",
            "100% 5/5 [00:01<00:00,  3.29it/s]\n",
            "mean F1 Score: 0.8569800000000001\n",
            "mean AP Score: 0.7761600000000001\n",
            "Prediction finished: IBC180_004_image.tif; img size = torch.Size([1, 3, 512, 512]); costing: 0.55s\n",
            "Prediction finished: OD301_01_image.tif; img size = torch.Size([1, 3, 512, 512]); costing: 0.39s\n",
            "Prediction finished: YSM3919_pak2Dcdc42mChSW_24h_04_R3D_image.tif; img size = torch.Size([1, 3, 1024, 1024]); costing: 2.78s\n",
            "Prediction finished: pSP_99_crop_1_image.tiff; img size = torch.Size([1, 3, 921, 1580]); costing: 4.35s\n",
            "Prediction finished: pSP_99_crop_2_image.tiff; img size = torch.Size([1, 3, 580, 1080]); costing: 1.32s\n",
            "\n",
            " Total Time Cost: 9.39s\n",
            "Evaluation of model:  from_phase2\n",
            "100% 5/5 [00:01<00:00,  3.21it/s]\n",
            "mean F1 Score: 0.8703799999999999\n",
            "mean AP Score: 0.79606\n",
            "Ensemble predictions using MEDIARs finetuned weights as well:\n",
            "Prediction finished: IBC180_004_image.tif; img size = torch.Size([1, 3, 512, 512]); costing: 0.83s\n",
            "Prediction finished: OD301_01_image.tif; img size = torch.Size([1, 3, 512, 512]); costing: 0.54s\n",
            "Prediction finished: YSM3919_pak2Dcdc42mChSW_24h_04_R3D_image.tif; img size = torch.Size([1, 3, 1024, 1024]); costing: 5.02s\n",
            "Prediction finished: pSP_99_crop_1_image.tiff; img size = torch.Size([1, 3, 921, 1580]); costing: 8.37s\n",
            "Prediction finished: pSP_99_crop_2_image.tiff; img size = torch.Size([1, 3, 580, 1080]); costing: 2.53s\n",
            "\n",
            " Total Time Cost: 17.28s\n",
            "Evaluation of ensemble model:  model_pretrained_phase1_50_epochs  and  from_phase1\n",
            "100% 5/5 [00:01<00:00,  3.32it/s]\n",
            "mean F1 Score: 0.91738\n",
            "mean AP Score: 0.8593\n",
            "Prediction finished: IBC180_004_image.tif; img size = torch.Size([1, 3, 512, 512]); costing: 0.87s\n",
            "Prediction finished: OD301_01_image.tif; img size = torch.Size([1, 3, 512, 512]); costing: 0.54s\n",
            "Prediction finished: YSM3919_pak2Dcdc42mChSW_24h_04_R3D_image.tif; img size = torch.Size([1, 3, 1024, 1024]); costing: 4.99s\n",
            "Prediction finished: pSP_99_crop_1_image.tiff; img size = torch.Size([1, 3, 921, 1580]); costing: 8.24s\n",
            "Prediction finished: pSP_99_crop_2_image.tiff; img size = torch.Size([1, 3, 580, 1080]); costing: 2.50s\n",
            "\n",
            " Total Time Cost: 17.14s\n",
            "Evaluation of ensemble model:  model_pretrained_phase1_50_epochs  and  from_phase2\n",
            "100% 5/5 [00:01<00:00,  3.30it/s]\n",
            "mean F1 Score: 0.9338799999999999\n",
            "mean AP Score: 0.88462\n",
            "Prediction finished: IBC180_004_image.tif; img size = torch.Size([1, 3, 512, 512]); costing: 0.82s\n",
            "Prediction finished: OD301_01_image.tif; img size = torch.Size([1, 3, 512, 512]); costing: 0.53s\n",
            "Prediction finished: YSM3919_pak2Dcdc42mChSW_24h_04_R3D_image.tif; img size = torch.Size([1, 3, 1024, 1024]); costing: 4.99s\n",
            "Prediction finished: pSP_99_crop_1_image.tiff; img size = torch.Size([1, 3, 921, 1580]); costing: 8.26s\n",
            "Prediction finished: pSP_99_crop_2_image.tiff; img size = torch.Size([1, 3, 580, 1080]); costing: 2.48s\n",
            "\n",
            " Total Time Cost: 17.09s\n",
            "Evaluation of ensemble model:  from_phase1  and  from_phase2\n",
            "100% 5/5 [00:01<00:00,  3.35it/s]\n",
            "mean F1 Score: 0.86642\n",
            "mean AP Score: 0.7910800000000001\n"
          ]
        }
      ]
    },
    {
      "cell_type": "markdown",
      "source": [
        "Some visualizations of the predicted labels"
      ],
      "metadata": {
        "id": "vpQ2yDC4oPFz"
      }
    },
    {
      "cell_type": "code",
      "source": [
        "path = \"/content/MEDIAR/results/ensembe_model_pretrained_phase1_50_epochs_and_model_finetuned_phase1_20epochs/IBC180_004_image_label.tiff\"\n",
        "pred1 = io.imread(path)\n",
        "io.imshow(pred1, cmap=\"cividis\")"
      ],
      "metadata": {
        "colab": {
          "base_uri": "https://localhost:8080/",
          "height": 503
        },
        "id": "_LNlRbsOoOfL",
        "outputId": "2d7c6925-f337-4775-d13d-8d84110951fd"
      },
      "execution_count": null,
      "outputs": [
        {
          "output_type": "execute_result",
          "data": {
            "text/plain": [
              "<matplotlib.image.AxesImage at 0x7ece27ce1660>"
            ]
          },
          "metadata": {},
          "execution_count": 54
        },
        {
          "output_type": "display_data",
          "data": {
            "text/plain": [
              "<Figure size 640x480 with 2 Axes>"
            ],
            "image/png": "[encoded data removed]"
          },
          "metadata": {}
        }
      ]
    },
    {
      "cell_type": "code",
      "source": [
        "path = \"/content/MEDIAR/results/ensembe_model_pretrained_phase1_50_epochs_and_model_finetuned_phase1_20epochs/pSP_99_crop_2_image_label.tiff\"\n",
        "\n",
        "pred1 = io.imread(path)\n",
        "io.imshow(pred1, cmap=\"cividis\")"
      ],
      "metadata": {
        "colab": {
          "base_uri": "https://localhost:8080/",
          "height": 359
        },
        "id": "O6afmaRRokmd",
        "outputId": "e133907e-150f-42dd-dd80-8fba725adc50"
      },
      "execution_count": null,
      "outputs": [
        {
          "output_type": "execute_result",
          "data": {
            "text/plain": [
              "<matplotlib.image.AxesImage at 0x7ece278930a0>"
            ]
          },
          "metadata": {},
          "execution_count": 56
        },
        {
          "output_type": "display_data",
          "data": {
            "text/plain": [
              "<Figure size 640x480 with 2 Axes>"
            ],
            "image/png": "[encoded data removed]"
          },
          "metadata": {}
        }
      ]
    },
    {
      "cell_type": "code",
      "source": [
        "path = \"/content/MEDIAR/lab_ground_truth/pSP_99_crop_2_image_label.tiff\"\n",
        "pred1 = io.imread(path)\n",
        "print(pred1.max())\n",
        "io.imshow(pred1, cmap=\"cividis\")"
      ],
      "metadata": {
        "colab": {
          "base_uri": "https://localhost:8080/",
          "height": 407
        },
        "id": "cMua4IkHok5i",
        "outputId": "0f0f58a0-4f88-440a-98cf-47b62f0bf0ba"
      },
      "execution_count": null,
      "outputs": [
        {
          "output_type": "stream",
          "name": "stdout",
          "text": [
            "134\n"
          ]
        },
        {
          "output_type": "stream",
          "name": "stderr",
          "text": [
            "/usr/local/lib/python3.10/dist-packages/skimage/io/_plugins/matplotlib_plugin.py:150: UserWarning: Low image data range; displaying image with stretched contrast.\n",
            "  lo, hi, cmap = _get_display_range(image)\n"
          ]
        },
        {
          "output_type": "execute_result",
          "data": {
            "text/plain": [
              "<matplotlib.image.AxesImage at 0x7ece1116f850>"
            ]
          },
          "metadata": {},
          "execution_count": 81
        },
        {
          "output_type": "display_data",
          "data": {
            "text/plain": [
              "<Figure size 640x480 with 2 Axes>"
            ],
            "image/png": "[encoded data removed]"
          },
          "metadata": {}
        }
      ]
    },
    {
      "cell_type": "code",
      "source": [
        "path = \"/content/MEDIAR/lab_ground_truth/IBC180_004_image_label.tiff\"\n",
        "pred1 = io.imread(path)\n",
        "print(pred1.max())\n",
        "io.imshow(pred1, cmap=\"cividis\")"
      ],
      "metadata": {
        "colab": {
          "base_uri": "https://localhost:8080/",
          "height": 521
        },
        "id": "3myg_KC5olAX",
        "outputId": "92fe4534-ede8-4df6-e0e0-31719ecd8f44"
      },
      "execution_count": null,
      "outputs": [
        {
          "output_type": "stream",
          "name": "stdout",
          "text": [
            "7186\n"
          ]
        },
        {
          "output_type": "execute_result",
          "data": {
            "text/plain": [
              "<matplotlib.image.AxesImage at 0x7ece11239690>"
            ]
          },
          "metadata": {},
          "execution_count": 79
        },
        {
          "output_type": "display_data",
          "data": {
            "text/plain": [
              "<Figure size 640x480 with 1 Axes>"
            ],
            "image/png": "[encoded data removed]"
          },
          "metadata": {}
        }
      ]
    },
    {
      "cell_type": "markdown",
      "metadata": {
        "id": "8rWfwp8LP2qP"
      },
      "source": [
        "\n",
        "\n",
        "---"
      ]
    }
  ],
  "metadata": {
    "accelerator": "GPU",
    "colab": {
      "provenance": [],
      "machine_shape": "hm",
      "gpuType": "T4"
    },
    "kernelspec": {
      "display_name": "Python 3",
      "name": "python3"
    },
    "language_info": {
      "name": "python"
    }
  },
  "nbformat": 4,
  "nbformat_minor": 0
}
